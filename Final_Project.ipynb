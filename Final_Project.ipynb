{
 "cells": [
  {
   "cell_type": "code",
   "execution_count": 11,
   "id": "5ac98e92-9a31-49c1-9de3-a690005737b0",
   "metadata": {},
   "outputs": [],
   "source": [
    "import numpy as np\n",
    "import pandas as pd\n",
    "import matplotlib.pyplot as plt\n",
    "import seaborn as sns\n",
    "\n",
    "import scipy as sp\n",
    "%matplotlib inline\n",
    "\n",
    "from IPython.html.widgets import interact\n",
    "from ipywidgets import GridspecLayout\n",
    "import ipywidgets as widgets\n",
    "\n",
    "from statsmodels.graphics.tsaplots import plot_acf, plot_pacf\n",
    "from pandas.plotting import autocorrelation_plot,lag_plot\n",
    "\n",
    "from statsmodels.tsa.stattools import adfuller,kpss,range_unit_root_test,zivot_andrews\n",
    "\n",
    "from scipy.fftpack import fft,fftfreq,ifft\n",
    "\n",
    "import datetime"
   ]
  },
  {
   "cell_type": "markdown",
   "id": "f2b7e437-1ff0-49ac-93df-4f01bc2fdf7c",
   "metadata": {},
   "source": [
    "Resampling, rolling calculations, and differencing\n",
    "\n",
    "Identifying periodicity and correlation\n",
    "\n",
    "This produces an autocorrelation plot: the correlation of a time series with itself at a range of lag times. We have applied it to the downsampled yearly time series which makes the calculation a lot quicker"
   ]
  },
  {
   "cell_type": "code",
   "execution_count": 2,
   "id": "4ceba150-8b7b-4d6a-b2d1-9654faef3b0a",
   "metadata": {},
   "outputs": [
    {
     "data": {
      "text/html": [
       "<div>\n",
       "<style scoped>\n",
       "    .dataframe tbody tr th:only-of-type {\n",
       "        vertical-align: middle;\n",
       "    }\n",
       "\n",
       "    .dataframe tbody tr th {\n",
       "        vertical-align: top;\n",
       "    }\n",
       "\n",
       "    .dataframe thead th {\n",
       "        text-align: right;\n",
       "    }\n",
       "</style>\n",
       "<table border=\"1\" class=\"dataframe\">\n",
       "  <thead>\n",
       "    <tr style=\"text-align: right;\">\n",
       "      <th></th>\n",
       "      <th>T_amb</th>\n",
       "      <th>wind_speed</th>\n",
       "      <th>wind_dir</th>\n",
       "      <th>sc550</th>\n",
       "      <th>AE_450_700</th>\n",
       "      <th>PM10</th>\n",
       "      <th>BC</th>\n",
       "      <th>Year</th>\n",
       "      <th>Month</th>\n",
       "      <th>Day</th>\n",
       "      <th>Hour</th>\n",
       "      <th>Weekday</th>\n",
       "    </tr>\n",
       "    <tr>\n",
       "      <th>Datetime</th>\n",
       "      <th></th>\n",
       "      <th></th>\n",
       "      <th></th>\n",
       "      <th></th>\n",
       "      <th></th>\n",
       "      <th></th>\n",
       "      <th></th>\n",
       "      <th></th>\n",
       "      <th></th>\n",
       "      <th></th>\n",
       "      <th></th>\n",
       "      <th></th>\n",
       "    </tr>\n",
       "  </thead>\n",
       "  <tbody>\n",
       "    <tr>\n",
       "      <th>2007-04-24 12:00:00</th>\n",
       "      <td>23.98</td>\n",
       "      <td>1.63</td>\n",
       "      <td>202.81</td>\n",
       "      <td>87.62</td>\n",
       "      <td>1.42935</td>\n",
       "      <td>63.89272</td>\n",
       "      <td>2.47</td>\n",
       "      <td>2007.0</td>\n",
       "      <td>4.0</td>\n",
       "      <td>24.0</td>\n",
       "      <td>12.0</td>\n",
       "      <td>1.0</td>\n",
       "    </tr>\n",
       "    <tr>\n",
       "      <th>2007-04-24 13:00:00</th>\n",
       "      <td>24.99</td>\n",
       "      <td>1.73</td>\n",
       "      <td>201.25</td>\n",
       "      <td>77.56</td>\n",
       "      <td>1.46802</td>\n",
       "      <td>63.51981</td>\n",
       "      <td>2.29</td>\n",
       "      <td>2007.0</td>\n",
       "      <td>4.0</td>\n",
       "      <td>24.0</td>\n",
       "      <td>13.0</td>\n",
       "      <td>1.0</td>\n",
       "    </tr>\n",
       "    <tr>\n",
       "      <th>2007-04-24 14:00:00</th>\n",
       "      <td>24.73</td>\n",
       "      <td>1.60</td>\n",
       "      <td>214.79</td>\n",
       "      <td>78.38</td>\n",
       "      <td>1.54528</td>\n",
       "      <td>59.83932</td>\n",
       "      <td>2.84</td>\n",
       "      <td>2007.0</td>\n",
       "      <td>4.0</td>\n",
       "      <td>24.0</td>\n",
       "      <td>14.0</td>\n",
       "      <td>1.0</td>\n",
       "    </tr>\n",
       "    <tr>\n",
       "      <th>2007-04-24 15:00:00</th>\n",
       "      <td>24.59</td>\n",
       "      <td>1.25</td>\n",
       "      <td>205.39</td>\n",
       "      <td>75.74</td>\n",
       "      <td>1.56389</td>\n",
       "      <td>61.13641</td>\n",
       "      <td>2.45</td>\n",
       "      <td>2007.0</td>\n",
       "      <td>4.0</td>\n",
       "      <td>24.0</td>\n",
       "      <td>15.0</td>\n",
       "      <td>1.0</td>\n",
       "    </tr>\n",
       "    <tr>\n",
       "      <th>2007-04-24 16:00:00</th>\n",
       "      <td>25.82</td>\n",
       "      <td>1.49</td>\n",
       "      <td>209.38</td>\n",
       "      <td>77.56</td>\n",
       "      <td>1.55272</td>\n",
       "      <td>66.60039</td>\n",
       "      <td>2.46</td>\n",
       "      <td>2007.0</td>\n",
       "      <td>4.0</td>\n",
       "      <td>24.0</td>\n",
       "      <td>16.0</td>\n",
       "      <td>1.0</td>\n",
       "    </tr>\n",
       "  </tbody>\n",
       "</table>\n",
       "</div>"
      ],
      "text/plain": [
       "                     T_amb  wind_speed  wind_dir  sc550  AE_450_700      PM10  \\\n",
       "Datetime                                                                        \n",
       "2007-04-24 12:00:00  23.98        1.63    202.81  87.62     1.42935  63.89272   \n",
       "2007-04-24 13:00:00  24.99        1.73    201.25  77.56     1.46802  63.51981   \n",
       "2007-04-24 14:00:00  24.73        1.60    214.79  78.38     1.54528  59.83932   \n",
       "2007-04-24 15:00:00  24.59        1.25    205.39  75.74     1.56389  61.13641   \n",
       "2007-04-24 16:00:00  25.82        1.49    209.38  77.56     1.55272  66.60039   \n",
       "\n",
       "                       BC    Year  Month   Day  Hour  Weekday  \n",
       "Datetime                                                       \n",
       "2007-04-24 12:00:00  2.47  2007.0    4.0  24.0  12.0      1.0  \n",
       "2007-04-24 13:00:00  2.29  2007.0    4.0  24.0  13.0      1.0  \n",
       "2007-04-24 14:00:00  2.84  2007.0    4.0  24.0  14.0      1.0  \n",
       "2007-04-24 15:00:00  2.45  2007.0    4.0  24.0  15.0      1.0  \n",
       "2007-04-24 16:00:00  2.46  2007.0    4.0  24.0  16.0      1.0  "
      ]
     },
     "execution_count": 2,
     "metadata": {},
     "output_type": "execute_result"
    }
   ],
   "source": [
    "bc = pd.read_csv('black_carbon.csv', na_values=('--'), parse_dates=[\"Datetime\"])\n",
    "#bc = pd.read_csv('D:/SERGIO/Python/black_carbon.csv', na_values=('--'), parse_dates=[\"Datetime\"])\n",
    "#bc = pd.read_csv('black_carbon.csv', na_values=('--'), parse_dates=[\"Datetime\"])\n",
    "bc= bc.set_index('Datetime')\n",
    "\n",
    "\n",
    "bc['Year'] = pd.DatetimeIndex(bc.index).year\n",
    "bc['Month'] = pd.DatetimeIndex(bc.index).month\n",
    "bc['Day'] = pd.DatetimeIndex(bc.index).day\n",
    "bc['Hour'] = pd.DatetimeIndex(bc.index).hour\n",
    "bc['Weekday'] = pd.DatetimeIndex(bc.index).weekday\n",
    "\n",
    "bc[\"BC\"].fillna(bc[\"BC\"].mean(), inplace=True)\n",
    "\n",
    "bc[bc['BC']<0.01] = 0.01\n",
    "bc.head()"
   ]
  },
  {
   "cell_type": "code",
   "execution_count": 3,
   "id": "0b32931a-d1db-4ea6-8b0b-735e9cbb4ae4",
   "metadata": {},
   "outputs": [],
   "source": [
    "hourly = bc.copy()\n",
    "\n",
    "daily = hourly.resample(\"D\").mean()\n",
    "daily_sd = hourly.resample(\"D\").std()\n",
    "\n",
    "\n",
    "weekly = hourly.resample(\"W\").mean()\n",
    "weekly_sd = hourly.resample(\"W\").std()\n",
    "\n",
    "monthly = hourly.resample(\"M\").mean()\n",
    "monthly_sd = hourly.resample(\"M\").std()\n",
    "\n",
    "quarterly = hourly.resample(\"Q\").mean()\n",
    "quarterly_sd = hourly.resample(\"Q\").std()\n",
    "\n",
    "\n",
    "yearly =hourly.resample(\"Y\").mean()\n",
    "yearly_sd = hourly.resample(\"Y\").std()\n",
    "\n",
    "\n",
    "samples_list = [hourly, daily, weekly, monthly, quarterly, yearly]\n"
   ]
  },
  {
   "cell_type": "code",
   "execution_count": null,
   "id": "51e553c1-2e9f-4de0-8e6c-e2eba724e55b",
   "metadata": {},
   "outputs": [],
   "source": []
  },
  {
   "cell_type": "code",
   "execution_count": 1054,
   "id": "0f1591cc-ddb3-480d-97bf-b0f8ad9030b2",
   "metadata": {},
   "outputs": [
    {
     "data": {
      "image/png": "[encoded data removed]",
      "text/plain": [
       "<Figure size 432x288 with 1 Axes>"
      ]
     },
     "metadata": {
      "needs_background": "light"
     },
     "output_type": "display_data"
    }
   ],
   "source": [
    "plt.hist(hourly.wind_speed, bins = 20);\n",
    "#plt.scatter(daily.BC,daily.PM10)"
   ]
  },
  {
   "cell_type": "code",
   "execution_count": 723,
   "id": "d2a2d616-f34a-4113-9492-5a060db2fa4c",
   "metadata": {},
   "outputs": [
    {
     "data": {
      "text/plain": [
       "<matplotlib.collections.PathCollection at 0x15e84f9bfa0>"
      ]
     },
     "execution_count": 723,
     "metadata": {},
     "output_type": "execute_result"
    },
    {
     "data": {
      "image/png": "[encoded data removed]",
      "text/plain": [
       "<Figure size 432x288 with 1 Axes>"
      ]
     },
     "metadata": {
      "needs_background": "light"
     },
     "output_type": "display_data"
    }
   ],
   "source": [
    "plt.scatter(daily.BC,daily.wind_speed,alpha = 0.2)"
   ]
  },
  {
   "cell_type": "code",
   "execution_count": 912,
   "id": "3440c433-5f85-4edf-b44a-8ccdf306c058",
   "metadata": {},
   "outputs": [],
   "source": [
    "from __future__ import print_function\n",
    "from ipywidgets import interact, interactive, fixed, interact_manual\n",
    "import ipywidgets as widgets\n",
    "\n",
    "from IPython.html.widgets import interact"
   ]
  },
  {
   "cell_type": "markdown",
   "id": "e1e8fe37-82ba-4794-afa0-b315f4d11bc5",
   "metadata": {},
   "source": [
    "### Time series of BC hourly measurements\n",
    "\n",
    "- The period of analysis can be selected.\n",
    "- resampling time can be chosen \n",
    "\n",
    "- Time series of BC daily values (adjustable time period)\n",
    "- resampled time series (adjustable number of days to average)\n",
    "- diff time series (adjustable number of lag days for the difference)\n",
    "- 2 different Unit root/stationarity tests (statistics are presented which vary depending on the time span chosen and resample dyas used) \n",
    "- autocorrelation of ts and diff_ts (adjustable number of lags for visualization)\n",
    "\n",
    "We can see by eye that there is an approximately 10 year cycleWe can see by eye that there is an approximately 10 year cycle"
   ]
  },
  {
   "cell_type": "code",
   "execution_count": 16,
   "id": "db8b9b9a-e0ae-49f5-8aff-5dec07216b96",
   "metadata": {},
   "outputs": [
    {
     "data": {
      "application/vnd.jupyter.widget-view+json": {
       "model_id": "2f8fac746ffe419da7b507cee3eddca1",
       "version_major": 2,
       "version_minor": 0
      },
      "text/plain": [
       "interactive(children=(IntSlider(value=14, continuous_update=False, description='n days : ', max=180, min=2, st…"
      ]
     },
     "metadata": {},
     "output_type": "display_data"
    }
   ],
   "source": [
    "\n",
    "\n",
    "def my_figure1(n_days=14, yi=2007, yf=2012, lags = 50, dt_diff=0):\n",
    "\n",
    "\n",
    "    ts1 = daily.BC[str(yi):str(yf)]\n",
    "    ts2 = daily.BC[str(yi):str(yf)].resample(str(n_days)+'D').mean()\n",
    "    ts3 = daily.BC[str(yi):str(yf)].resample(str(n_days)+'D').std()\n",
    "    ts4 = daily.BC[str(yi):str(yf)].resample(str(n_days)+'D').median()\n",
    "    \n",
    "    ts_diff = ts2 - ts2.shift(dt_diff)\n",
    "    ts_diff.dropna(inplace = True)\n",
    "    \n",
    "#     print(ts2.head())\n",
    "#     print(ts2.tail())\n",
    "#------------ Results of kpss test and result----------------------------      \n",
    "    \n",
    "    k_test =  kpss(ts2, regression ='ct')\n",
    "   \n",
    "    koutput = pd.Series(k_test[0:2], index = ['Test Statistic','p-value'])\n",
    "   \n",
    "    for key,value in k_test[3].items():\n",
    "        koutput['Critical Value (%s)'%key] = value\n",
    "#     print('-------------------'*3)    \n",
    "#     print('Results of KPSS test:')\n",
    "#     print(koutput)\n",
    "#     print('-------------------'*3)\n",
    "\n",
    "    \n",
    "#------------ Results of adfuller test and result----------------------------  \n",
    "\n",
    "\n",
    "    af = adfuller(ts2, regression = 'ctt', autolag = 'AIC')\n",
    "    \n",
    "    dfoutput = pd.Series(af[0:4], index = ['Test Statistic','p-value','#Lags Used','Number of Observations Used'])\n",
    "   \n",
    "    for key,value in af[4].items():\n",
    "        dfoutput['Critical Value (%s)'%key] = value\n",
    "        \n",
    "    print('-------------------'*3)    \n",
    "    print('Results of Dickey-Fuller Test:')\n",
    "#    print(dfoutput)\n",
    "    print('-------------------'*3)\n",
    "\n",
    "#------------ Plotting time series----------------------------\n",
    "\n",
    "    \n",
    "    fig,((ax1,ax2),(ax3,ax4)) = plt.subplots(2,2,figsize=(15,7))\n",
    "    \n",
    "    ax1.set_title('Time series \\n Hourly BC measurements')\n",
    "    ax1.set_facecolor('whitesmoke')\n",
    "    \n",
    "    \n",
    "    \n",
    "#    ax.scatter(ts1.index,ts1,c='black',alpha=0.1, label = 'hourly values, initial data')\n",
    "    ax1.plot(ts1,c='black',alpha=0.22, label = 'hourly values, initial data')\n",
    "    ax1.plot(ts2, c='darkblue',linewidth = 2, label = 'resampled values, mean') \n",
    "    ax1.plot(ts4, c='blue',linewidth = 2, alpha =1, label = 'resampled values, median')\n",
    "    \n",
    "    ax1.fill_between(ts2.index,ts2-ts3, ts2+ts3, alpha = 0.5,  label = 'std')\n",
    "    ax1.plot(ts2+ts3, c = 'darkblue', linewidth = .5, alpha=1)\n",
    "    ax1.plot(ts2-ts3, c = 'darkblue', linewidth = .5, alpha=1)\n",
    "    \n",
    "    ax1.set_ylim(0,(ts2+ts3).max()+2)    \n",
    "    ax1.legend( loc='best', shadow=True, fontsize='medium')\n",
    "\n",
    "    \n",
    "    ax3.plot(ts_diff, c='darkblue',linewidth = 2, label = 'diff')\n",
    "    ax3.set_title('Difference ts for selected \\n resampling period, time span and lag')\n",
    "    ax3.set_facecolor('whitesmoke')\n",
    "    ax3.legend( loc='best', shadow=True, fontsize='medium')\n",
    "\n",
    "    ax2.set_title('Autocorrelation for selected \\n resampling period and time span')\n",
    "    ax2.set_facecolor('whitesmoke')\n",
    "    autocorrelation_plot(ts2,ax=ax2)\n",
    "#     plot_acf(ts2, lags = lags ,label = 'acf',ax = ax2)\n",
    "#     plot_pacf(ts2, lags = lags ,method='ywm',label = 'pacf',ax = ax2)\n",
    "#    ax2.legend( loc='best', shadow=True, fontsize='medium')\n",
    "    ax2.set_xlim(0,lags) \n",
    "    \n",
    "    \n",
    "    ax4.set_title('Autocorrelation diff for selected: \\n -resampling period, time span and lag')\n",
    "    ax4.set_facecolor('whitesmoke')\n",
    "    autocorrelation_plot(ts_diff,ax=ax4)\n",
    "#     plot_acf(ts_diff, lags = lags ,label = 'acf', c = 'green',ax = ax4)\n",
    "#     plot_pacf(ts_diff, lags = lags ,method='ywm',label = 'pacf',ax = ax4)\n",
    "#    ax4.legend( loc='best', shadow=True, fontsize='medium')\n",
    "    ax4.set_xlim(0,lags)\n",
    "    \n",
    "    \n",
    "n_days = widgets.IntSlider(value=14,min=2,max=180,step=2,description='n days : ',disabled=False,continuous_update=False,\n",
    "                           orientation='horizontal', readout=True, readout_format='d')\n",
    "\n",
    "lags = widgets.IntSlider(value=50,min=2,max=100,step=1,description='Lag : ',disabled=False,continuous_update=False,\n",
    "                           orientation='horizontal', readout=True, readout_format='d')\n",
    "\n",
    "dt_diff = widgets.IntSlider(value=0,min=0,max=60,step=1,description='day diff : ',disabled=False,continuous_update=False,\n",
    "                           orientation='horizontal', readout=True, readout_format='d')\n",
    "\n",
    "# import datetime\n",
    "# dates = [datetime.date(2015, i, 1) for i in range(1, 13)]\n",
    "# options = [(i.strftime('%b'), i) for i in dates]\n",
    "# widgets.SelectionRangeSlider(\n",
    "#     options=options,\n",
    "#     index=(0, 11),\n",
    "#     description='Months (2015)',\n",
    "#     disabled=False\n",
    "# )\n",
    "    \n",
    "interact(my_figure1 , n_days=n_days, yi=(2007,2012), yf=(2007,2012), lags = lags, dt_diff = dt_diff);"
   ]
  },
  {
   "cell_type": "code",
   "execution_count": 1050,
   "id": "3f338af4-721c-4b94-aa95-8b85e92ceacf",
   "metadata": {},
   "outputs": [
    {
     "data": {
      "text/plain": [
       "datetime.date(2015, 2, 1)"
      ]
     },
     "execution_count": 1050,
     "metadata": {},
     "output_type": "execute_result"
    }
   ],
   "source": [
    "dates = [datetime.date(2015, i, 1) for i in range(1, 13)]\n",
    "dates[1]"
   ]
  },
  {
   "cell_type": "markdown",
   "id": "b128bef8-2f7d-4409-9ecc-8c940e334020",
   "metadata": {},
   "source": [
    "# Spectral analysis and Filtering a signal using FFT"
   ]
  },
  {
   "cell_type": "code",
   "execution_count": 908,
   "id": "fdbdaac4-05d5-4208-be58-69e8b9c4b7c1",
   "metadata": {},
   "outputs": [
    {
     "data": {
      "image/png": "[encoded data removed]",
      "text/plain": [
       "<Figure size 432x288 with 1 Axes>"
      ]
     },
     "metadata": {
      "needs_background": "light"
     },
     "output_type": "display_data"
    }
   ],
   "source": [
    "\n",
    "\n",
    "yf = fft(np.array(hourly.BC))\n",
    "xf = fftfreq(len(np.array(hourly.BC)), 1)\n",
    "\n",
    "plt.plot(xf, np.abs(yf))\n",
    "\n",
    "\n",
    "plt.xlim(0, .1)\n",
    "plt.show()\n"
   ]
  },
  {
   "cell_type": "code",
   "execution_count": 827,
   "id": "b6b9a204-d3e2-4d80-8415-fc122a05ca16",
   "metadata": {},
   "outputs": [],
   "source": [
    "from scipy.fft import rfft, fft"
   ]
  },
  {
   "cell_type": "code",
   "execution_count": 832,
   "id": "0d469e2b-0d00-4dbb-845a-0a0e8f4c8a3a",
   "metadata": {},
   "outputs": [
    {
     "data": {
      "image/png": "[encoded data removed]",
      "text/plain": [
       "<Figure size 864x432 with 1 Axes>"
      ]
     },
     "metadata": {
      "needs_background": "light"
     },
     "output_type": "display_data"
    }
   ],
   "source": [
    "X = fft(np.array(hourly.BC))\n",
    "N = len(X)\n",
    "n = np.arange(N)\n",
    "# get the sampling rate\n",
    "sr = 1 \n",
    "T = N/sr\n",
    "freq = n/T \n",
    "\n",
    "# Get the one-sided specturm\n",
    "n_oneside = N//2\n",
    "# get the one side frequency\n",
    "f_oneside = freq[:n_oneside]\n",
    "\n",
    "\n",
    "plt.figure(figsize = (12, 6))\n",
    "plt.plot(f_oneside, np.abs(X[:n_oneside]), 'b')\n",
    "plt.xlabel('Freq (Hz)')\n",
    "plt.ylabel('FFT Amplitude |X(freq)|')\n",
    "plt.show()"
   ]
  },
  {
   "cell_type": "code",
   "execution_count": 837,
   "id": "55490e80-221e-4f56-a106-58eaf1a81381",
   "metadata": {},
   "outputs": [
    {
     "data": {
      "image/png": "[encoded data removed]",
      "text/plain": [
       "<Figure size 864x432 with 1 Axes>"
      ]
     },
     "metadata": {
      "needs_background": "light"
     },
     "output_type": "display_data"
    }
   ],
   "source": [
    "t_h = 1/f_oneside \n",
    "\n",
    "plt.figure(figsize=(12,6))\n",
    "plt.plot(t_h, np.abs(X[:n_oneside])/n_oneside)\n",
    "plt.xticks([12, 24, 48, 72, 84, 168])\n",
    "plt.xlim(0, 200)\n",
    "plt.xlabel('Period ($hour$)')\n",
    "plt.show()"
   ]
  },
  {
   "cell_type": "code",
   "execution_count": null,
   "id": "34c2aa3d-22dd-495f-beff-4e08eae05661",
   "metadata": {},
   "outputs": [],
   "source": []
  },
  {
   "cell_type": "code",
   "execution_count": 13,
   "id": "3c6a388c-c055-4eac-a9c3-656f8a3a09ea",
   "metadata": {},
   "outputs": [
    {
     "data": {
      "application/vnd.jupyter.widget-view+json": {
       "model_id": "91508d11eae9434fbb530fa9da6e1119",
       "version_major": 2,
       "version_minor": 0
      },
      "text/plain": [
       "interactive(children=(FloatLogSlider(value=0.001, description='Low Pass cut off', max=1.0, min=-5.0, readout_f…"
      ]
     },
     "metadata": {},
     "output_type": "display_data"
    },
    {
     "data": {
      "text/plain": [
       "<function __main__.my_figure2(cut_off_l=0.007, cut_off_h=0.004, window=1)>"
      ]
     },
     "execution_count": 13,
     "metadata": {},
     "output_type": "execute_result"
    }
   ],
   "source": [
    "\n",
    "\n",
    "\n",
    "def my_figure2(cut_off_l = 7e-3,cut_off_h = 0.004, window = 1):\n",
    "\n",
    "    \n",
    "    t = np.arange(len(np.array(hourly.BC[:'2011'])))\n",
    "    roll_data = hourly.BC[:'2011'].rolling(window, min_periods=1).mean()\n",
    "    \n",
    "#   print(cut_off)\n",
    "    # FFT the signal\n",
    "    sig_fft = fft(np.array(hourly.BC[:'2011']))\n",
    "    # copy the FFT results\n",
    "    sig_fft_filtered_low = sig_fft.copy()\n",
    "    sig_fft_filtered_high = sig_fft.copy()\n",
    "    # obtain the frequencies using scipy function\n",
    "    freq_low = fftfreq(len(np.array(hourly.BC[:'2011'])), d=1)\n",
    "    freq_high = fftfreq(len(np.array(hourly.BC[:'2011'])), d=1)\n",
    "    # define the cut-off frequency\n",
    "    #cut_off = 0.0006\n",
    "\n",
    "    # low-pass filter \n",
    "\n",
    "    sig_fft_filtered_low[(np.abs(freq_low)) > (cut_off_l)] = 0\n",
    "    \n",
    "    sig_fft_filtered_high[(np.abs(freq_high)) < (cut_off_h)] = 0\n",
    "\n",
    "    # get the filtered signal in time domain\n",
    "    filtered_low = ifft(sig_fft_filtered_low)\n",
    "    filtered_high = ifft(sig_fft_filtered_high)\n",
    "\n",
    "    # plot the filtered signal\n",
    "    fig, (ax_low,ax_high, ax_roll) = plt.subplots(3,1, figsize = (12, 7))\n",
    "    \n",
    "    ax_low.set_title('Low Pass Filter on the signal, cutoff = ' + str(round(365*cut_off_l,6))+ '(day)')\n",
    "    ax_low.plot(t,hourly.BC[:'2011'], c='black', alpha = 0.1)\n",
    "    ax_low.plot(t, filtered_low, c = 'blue',linewidth = 2.5)\n",
    "    ax_low.set_xlim(-500,35000)\n",
    "    ax_low.set_ylim(0, filtered_low.max()+1)\n",
    "    \n",
    "    ax_low.set_xlabel('Time (h) ')\n",
    "    ax_low.set_ylabel('Amplitude')\n",
    "\n",
    "    ax_high.set_title('High Pass Filter on the signal, cutoff = ' + str(round(365*cut_off_h,6))+ '(day)')\n",
    "    ax_high.plot(t,hourly.BC[:'2011'], c='black', alpha = 0.1)\n",
    "    ax_high.plot(t, filtered_high, c = 'blue',linewidth = 2.5)\n",
    "    ax_high.set_xlim(-500,35000)\n",
    "    ax_high.set_ylim(0, filtered_high.max()+1)\n",
    "    \n",
    "    ax_high.set_xlabel('Time (h) ')\n",
    "    ax_high.set_ylabel('Amplitude')\n",
    "    \n",
    "    ax_roll.set_title('Rolling average = ' + str(window))\n",
    "    ax_roll.plot(t,hourly.BC[:'2011'], c='black', alpha = 0.1)\n",
    "    ax_roll.plot(t,roll_data, c='black',linewidth = 2.5)\n",
    "    ax_roll.set_xlim(-500,35000)\n",
    "    ax_roll.set_ylim(0, 15)\n",
    "    \n",
    "    ax_roll.set_xlabel('Time (h) ')\n",
    "    ax_roll.set_ylabel('Amplitude')\n",
    "    \n",
    "    \n",
    "    \n",
    "    \n",
    "    # plot the FFT amplitude before and after\n",
    "    \n",
    "    fig, (ax1,ax2,ax3) = plt.subplots(1,3, figsize = (12, 3))\n",
    "    \n",
    "    ax1.stem(1/freq_low, np.abs(sig_fft), 'b', markerfmt=\" \", basefmt=\"-b\")\n",
    "    ax1.set_title('Before filtering')\n",
    "    ax1.set_xticks([12, 24, 48, 72, 84, 168])\n",
    "    ax1.set_xlim(0, 200)\n",
    "    ax1.set_ylim(0, 10000)\n",
    "    ax1.set_xlabel('Hour')\n",
    "    ax1.set_ylabel('FFT Amplitude')\n",
    "\n",
    "    \n",
    "    ax2.stem(freq_low, np.abs(sig_fft_filtered_low), 'b', markerfmt=\" \", basefmt=\"-b\")\n",
    "    ax2.axvline(cut_off_l,c='black')\n",
    "    ax2.set_title('After filtering')\n",
    "    ax2.set_xlim(0, cut_off_l+0.01)\n",
    "    ax2.set_ylim(0, 20000)\n",
    "    ax2.set_xlabel('Frequency (Hour-1)')\n",
    "    ax2.set_ylabel('FFT Amplitude');\n",
    "    \n",
    "    ax3.stem(freq_high, np.abs(sig_fft_filtered_high), 'b', markerfmt=\" \", basefmt=\"-b\")\n",
    "    ax3.axvline(cut_off_h,c='black')\n",
    "    ax3.set_title('After filtering')\n",
    "    ax3.set_xlim(0, cut_off_l+0.01)\n",
    "    ax3.set_ylim(0, 20000)\n",
    "    ax3.set_xlabel('Frequency (Hour-1)')\n",
    "    ax3.set_ylabel('FFT Amplitude');\n",
    "    \n",
    "    \n",
    "cut_off_l = widgets.FloatLogSlider(value=1e-3,base=10,min=-5, max=1, step=0.01, description='Low Pass cut off', orientation='horizontal', readout_format='.5f')\n",
    "\n",
    "cut_off_h = widgets.FloatLogSlider(value=0.004,base=10,min=-6, max=-0.30, step=0.01, description='High Pass cut off', orientation='horizontal', readout_format='.5f')\n",
    "\n",
    "window = widgets.IntSlider(value=1,min=1,max=1000,step=1,description='rolling window : ',disabled=False,continuous_update=False,\n",
    "                           orientation='horizontal', readout=True, readout_format='d')\n",
    "\n",
    "\n",
    "#interact(my_figure2 , cut_off=(0.0001, 0.5,1e-5));\n",
    "interact(my_figure2 ,cut_off_l=cut_off_l,cut_off_h=cut_off_h, window=window )"
   ]
  },
  {
   "cell_type": "code",
   "execution_count": 1110,
   "id": "2888e0af-6e85-417c-b797-369f37fc099c",
   "metadata": {},
   "outputs": [
    {
     "data": {
      "text/plain": [
       "(0.041666666666666664, 0.00011415525114155251)"
      ]
     },
     "execution_count": 1110,
     "metadata": {},
     "output_type": "execute_result"
    }
   ],
   "source": [
    "1/24, 1/(24*365)"
   ]
  },
  {
   "cell_type": "code",
   "execution_count": 1015,
   "id": "d2378a25-f2aa-4c05-9e76-3642756372dd",
   "metadata": {},
   "outputs": [
    {
     "data": {
      "application/vnd.jupyter.widget-view+json": {
       "model_id": "e2bb5ff5ff96437c9ef2392f9407f194",
       "version_major": 2,
       "version_minor": 0
      },
      "text/plain": [
       "IntSlider(value=0)"
      ]
     },
     "metadata": {},
     "output_type": "display_data"
    },
    {
     "data": {
      "application/vnd.jupyter.widget-view+json": {
       "model_id": "e2bb5ff5ff96437c9ef2392f9407f194",
       "version_major": 2,
       "version_minor": 0
      },
      "text/plain": [
       "IntSlider(value=0)"
      ]
     },
     "metadata": {},
     "output_type": "display_data"
    }
   ],
   "source": [
    "w = widgets.IntSlider()\n",
    "display(w)\n",
    "display(w)"
   ]
  },
  {
   "cell_type": "code",
   "execution_count": null,
   "id": "a356d023-c0a9-4520-b24f-12d82aae803a",
   "metadata": {},
   "outputs": [],
   "source": []
  },
  {
   "cell_type": "code",
   "execution_count": null,
   "id": "93c60249-984e-4a9d-9018-c98726f6e4fd",
   "metadata": {},
   "outputs": [],
   "source": []
  },
  {
   "cell_type": "code",
   "execution_count": 644,
   "id": "c70bbdf0-d959-4381-918b-607d1d4eaa07",
   "metadata": {},
   "outputs": [
    {
     "data": {
      "application/vnd.jupyter.widget-view+json": {
       "model_id": "9eb4d5aa627a4ed9acb23c0a8a62a799",
       "version_major": 2,
       "version_minor": 0
      },
      "text/plain": [
       "interactive(children=(IntSlider(value=20, description='lagg', max=70, min=2), Output()), _dom_classes=('widget…"
      ]
     },
     "metadata": {},
     "output_type": "display_data"
    }
   ],
   "source": [
    "ts_diff = bc.resample(\"W\").mean().BC - bc.resample(\"W\").mean().BC.shift()\n",
    "ts_diff.dropna(inplace = True)\n",
    "\n",
    "def my_plot1(lagg=20):\n",
    "\n",
    "    autocorrelation_plot(ts_diff[:lagg])\n",
    "\n",
    "#adfuller(ts_diff, regression = 'ctt', autolag = 'AIC')[1]\n",
    "\n",
    "interact(my_plot1, lagg=(2, 70));"
   ]
  },
  {
   "cell_type": "code",
   "execution_count": 625,
   "id": "4b2cfcbe-2705-4ef5-ab7e-64382761cae3",
   "metadata": {},
   "outputs": [
    {
     "data": {
      "application/vnd.jupyter.widget-view+json": {
       "model_id": "7c744a73f1cf4274acbee8f8eaffa557",
       "version_major": 2,
       "version_minor": 0
      },
      "text/plain": [
       "interactive(children=(Text(value='Hi there!', description='x'), Output()), _dom_classes=('widget-interact',))"
      ]
     },
     "metadata": {},
     "output_type": "display_data"
    }
   ],
   "source": [
    "interact(f, x='Hi there!');"
   ]
  },
  {
   "cell_type": "code",
   "execution_count": null,
   "id": "bcafb504-d897-4a55-b977-6b8394dcb689",
   "metadata": {},
   "outputs": [],
   "source": []
  },
  {
   "cell_type": "markdown",
   "id": "89d8a80c-2b16-4798-8939-dbc766c7aa4a",
   "metadata": {},
   "source": [
    "stationary in 2007-2009? The null hypetesis is that the series is non stationary. Low p value means that H0 should be rejected, therefore the series is stationary"
   ]
  },
  {
   "cell_type": "code",
   "execution_count": null,
   "id": "26fc2b41-5376-4919-a37f-d6a8631ea1a6",
   "metadata": {},
   "outputs": [],
   "source": []
  },
  {
   "cell_type": "code",
   "execution_count": null,
   "id": "dc2a0489-17d6-4342-8d23-f121524c95b0",
   "metadata": {},
   "outputs": [],
   "source": []
  },
  {
   "cell_type": "code",
   "execution_count": null,
   "id": "9404e15f-2f31-47e9-8b15-b7dc2d687c5b",
   "metadata": {},
   "outputs": [],
   "source": []
  },
  {
   "cell_type": "code",
   "execution_count": null,
   "id": "b38d4214-7c57-448e-9700-920084d3ba44",
   "metadata": {},
   "outputs": [],
   "source": []
  },
  {
   "cell_type": "code",
   "execution_count": null,
   "id": "1487a20a-c3e8-4567-8bf9-b669f664d26a",
   "metadata": {},
   "outputs": [],
   "source": []
  },
  {
   "cell_type": "code",
   "execution_count": null,
   "id": "c8d06e7b-10c8-49fa-a66b-470b016b9440",
   "metadata": {},
   "outputs": [],
   "source": []
  },
  {
   "cell_type": "code",
   "execution_count": null,
   "id": "7256eae4-15ef-44b4-b227-ce49394cb54f",
   "metadata": {},
   "outputs": [],
   "source": []
  },
  {
   "cell_type": "code",
   "execution_count": null,
   "id": "47de4a63-b9e1-4df6-bf2f-328975e5f977",
   "metadata": {},
   "outputs": [],
   "source": []
  },
  {
   "cell_type": "code",
   "execution_count": null,
   "id": "0d633726-e452-4e19-922c-f12b71590788",
   "metadata": {},
   "outputs": [],
   "source": []
  },
  {
   "cell_type": "code",
   "execution_count": null,
   "id": "0abc2e4a-0b57-42d6-83bb-41bcd9d03406",
   "metadata": {},
   "outputs": [],
   "source": [
    "orig = plt.plot(timeseries, color = 'blue',label = 'Original')"
   ]
  },
  {
   "cell_type": "code",
   "execution_count": 668,
   "id": "55e46d16-56b6-4f36-a5c5-adf4fa53ea39",
   "metadata": {},
   "outputs": [
    {
     "data": {
      "text/plain": [
       "(1.162281898108684,\n",
       " 0.01,\n",
       " 70,\n",
       " {'10%': 0.347, '5%': 0.463, '2.5%': 0.574, '1%': 0.739})"
      ]
     },
     "execution_count": 668,
     "metadata": {},
     "output_type": "execute_result"
    }
   ],
   "source": [
    "kpss(bc.BC['2007':'2009'], regression='c')#, regression='c', nlags='auto', store=False)"
   ]
  },
  {
   "cell_type": "code",
   "execution_count": 271,
   "id": "14f066fc-c7b0-4be6-8e5c-6c636d4540bb",
   "metadata": {},
   "outputs": [
    {
     "data": {
      "text/plain": [
       "(-10.393959013131209,\n",
       " 1e-05,\n",
       " {'1%': -5.27644, '5%': -4.81067, '10%': -4.56618},\n",
       " 25,\n",
       " 1256)"
      ]
     },
     "execution_count": 271,
     "metadata": {},
     "output_type": "execute_result"
    }
   ],
   "source": [
    "zivot_andrews(bc.BC['2007'])"
   ]
  },
  {
   "cell_type": "code",
   "execution_count": null,
   "id": "4dc05a12-9faf-4520-8c6c-297166310e31",
   "metadata": {},
   "outputs": [],
   "source": []
  },
  {
   "cell_type": "code",
   "execution_count": 56,
   "id": "75a77488-ee88-46c7-b995-dd6a76b510ad",
   "metadata": {},
   "outputs": [
    {
     "data": {
      "image/png": "[encoded data removed]",
      "text/plain": [
       "<Figure size 432x288 with 4 Axes>"
      ]
     },
     "metadata": {
      "needs_background": "light"
     },
     "output_type": "display_data"
    }
   ],
   "source": [
    "from statsmodels.tsa.seasonal import seasonal_decompose\n",
    "\n",
    "decomposition = seasonal_decompose(bc.BC['2007':'2009'])\n",
    "\n",
    "trend = decomposition.trend\n",
    "seasonal = decomposition.seasonal\n",
    "residual = decomposition.resid\n",
    "\n",
    "plt.subplot(411)\n",
    "plt.plot(bc.BC['2007':'2009'], label='Original')\n",
    "plt.legend(loc='best')\n",
    "plt.subplot(412)\n",
    "plt.plot(trend, label='Trend')\n",
    "plt.legend(loc='best')\n",
    "plt.subplot(413)\n",
    "plt.plot(seasonal,label='Seasonality')\n",
    "plt.legend(loc='best')\n",
    "plt.subplot(414)\n",
    "plt.plot(residual, label='Residuals')\n",
    "plt.legend(loc='best')\n",
    "plt.tight_layout()"
   ]
  },
  {
   "cell_type": "code",
   "execution_count": null,
   "id": "e6f14e04-5481-4f6f-86d4-ce191c91872e",
   "metadata": {},
   "outputs": [],
   "source": []
  },
  {
   "cell_type": "code",
   "execution_count": null,
   "id": "744caa1c-3c25-45c6-b5b6-6bb95a3a84b4",
   "metadata": {},
   "outputs": [],
   "source": []
  },
  {
   "cell_type": "code",
   "execution_count": null,
   "id": "e1459de7-11a8-4617-a546-6e5af7b8bc5a",
   "metadata": {},
   "outputs": [],
   "source": []
  },
  {
   "cell_type": "code",
   "execution_count": 287,
   "id": "06ef0d8c-498b-4100-868c-742baf912bc2",
   "metadata": {},
   "outputs": [
    {
     "name": "stdout",
     "output_type": "stream",
     "text": [
      "['B']\n",
      "['B', 'AB']\n",
      "['B', 'AB', 'BAB']\n",
      "['B', 'AB', 'BAB', 'ABBAB']\n",
      "['B', 'AB', 'BAB', 'ABBAB', 'BABABBAB']\n",
      "['B', 'AB', 'BAB', 'ABBAB', 'BABABBAB', 'ABBABBABABBAB']\n",
      "['B', 'AB', 'BAB', 'ABBAB', 'BABABBAB', 'ABBABBABABBAB', 'BABABBABABBABBABABBAB']\n"
     ]
    }
   ],
   "source": [
    "numIters = 8\n",
    "\n",
    "axiom = \"A\"         ## initial word \n",
    "#rule = ['B','AB']\n",
    "\n",
    "startString = axiom   ## startString is the initial word\n",
    "\n",
    "list_strings = []\n",
    "\n",
    "for iteration in range(1, numIters):\n",
    "\n",
    "    newstr = \"\"\n",
    "    \n",
    "    for ch in startString:\n",
    "        \n",
    "        if ch == 'A':            \n",
    "            newstr = newstr + 'B' # Rule 1\n",
    "            \n",
    "        elif ch == 'B':            \n",
    "            newstr = newstr + 'AB' # Rule 2\n",
    "            \n",
    "#         else:            \n",
    "#              newstr = ch    # no rules apply so keep the character    \n",
    "#         endString = newstr \n",
    "        \n",
    "#         startString = endString\n",
    "        startString = newstr\n",
    "       \n",
    "    list_strings.append(startString)\n",
    "        \n",
    "        \n",
    "        \n",
    "#print(endString)\n",
    "\n",
    "    print(list_strings)"
   ]
  },
  {
   "cell_type": "code",
   "execution_count": null,
   "id": "e2af90db-9c62-47d3-9bcd-dc7a749c424e",
   "metadata": {},
   "outputs": [],
   "source": []
  },
  {
   "cell_type": "code",
   "execution_count": null,
   "id": "8866b028-1616-4ff4-97db-20ac4f1a9482",
   "metadata": {},
   "outputs": [],
   "source": []
  }
 ],
 "metadata": {
  "kernelspec": {
   "display_name": "Python 3 (ipykernel)",
   "language": "python",
   "name": "python3"
  },
  "language_info": {
   "codemirror_mode": {
    "name": "ipython",
    "version": 3
   },
   "file_extension": ".py",
   "mimetype": "text/x-python",
   "name": "python",
   "nbconvert_exporter": "python",
   "pygments_lexer": "ipython3",
   "version": "3.9.7"
  }
 },
 "nbformat": 4,
 "nbformat_minor": 5
}
